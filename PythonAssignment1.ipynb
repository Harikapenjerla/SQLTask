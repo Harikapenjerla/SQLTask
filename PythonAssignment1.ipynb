{
 "cells": [
  {
   "cell_type": "code",
   "execution_count": 8,
   "id": "3d0c39ad",
   "metadata": {},
   "outputs": [
    {
     "name": "stdout",
     "output_type": "stream",
     "text": [
      "assigning values of different datatypes\n",
      "4 <class 'int'> Krishna <class 'str'> 3.14 <class 'float'> True <class 'bool'>\n"
     ]
    }
   ],
   "source": [
    "# Create three variables in a single line and assign values to them in such a manner that each one of\n",
    "#them belongs to a different data type. \n",
    "\n",
    "print(\"Assigning values of different datatypes\")\n",
    "\n",
    "a, b, c, d = 4, \"Krishna\", 3.14, True\n",
    "print(a,type(a),b,type(b),c,type(c),d,type(d))\n"
   ]
  },
  {
   "cell_type": "code",
   "execution_count": 10,
   "id": "43264ed0",
   "metadata": {
    "scrolled": true
   },
   "outputs": [
    {
     "name": "stdout",
     "output_type": "stream",
     "text": [
      "c type: <class 'complex'>\n",
      "d 5.0\n"
     ]
    }
   ],
   "source": [
    "#Create a variable of type complex and swap it with another variable of type integer.\n",
    "c=5+2j\n",
    "print(\"c type:\",type(c))\n",
    "d=print(\"d\",c.real)\n"
   ]
  },
  {
   "cell_type": "code",
   "execution_count": 1,
   "id": "aea246c1",
   "metadata": {},
   "outputs": [
    {
     "name": "stdout",
     "output_type": "stream",
     "text": [
      "Enter value of x: 2\n",
      "Enter value of y: 3\n",
      "The value of a after swapping 3\n",
      "The value of b after swapping 2\n"
     ]
    }
   ],
   "source": [
    "#Swap two numbers using a third variable and do the same task without using any third variable.\n",
    "##Third Variable\n",
    "#  inputs from the user \n",
    "a = input('Enter value of x: ')\n",
    "b = input('Enter value of y: ')\n",
    "\n",
    "# create a temporary variable and swap the values\n",
    "temp = a\n",
    "a = b\n",
    "b = temp\n",
    "\n",
    "print(\"The value of a after swapping\",a)\n",
    "print(\"The value of b after swapping\",b)\n",
    "\n",
    "##Without Third Variable\n",
    "c=5+2j\n",
    "d=5\n",
    "print(\"Before Swapping:\",\"c=\", c,\",\",\"d=\",d)\n",
    "c,d =d,c\n",
    "print(\"After Swapping:\",\"c=\", c,\",\",\"d=\",d)"
   ]
  },
  {
   "cell_type": "code",
   "execution_count": 6,
   "id": "399e0b07",
   "metadata": {},
   "outputs": [
    {
     "name": "stdout",
     "output_type": "stream",
     "text": [
      "User Input: hr\n"
     ]
    }
   ],
   "source": [
    "#Write a program that takes input from the user and prints it using both Python 2.x and Python 3.x\n",
    "#Version.\n",
    "Python2 = raw_input(\"User Input: \") #python2\n",
    "Python3 = input(\"User Input: \") #Python3\n"
   ]
  },
  {
   "cell_type": "code",
   "execution_count": 11,
   "id": "e795e528",
   "metadata": {},
   "outputs": [
    {
     "name": "stdout",
     "output_type": "stream",
     "text": [
      "Enter value of x between 1-10: 5\n",
      "Enter value of y between 1-10: 5\n",
      "40\n"
     ]
    }
   ],
   "source": [
    "#Write a program to complete the task given below:\n",
    "#Ask users to enter any 2 numbers in between 1-10 , add the two numbers and keep the sum in\n",
    "#another variable called z. Add 30 to z and store the output in variable result and print result as the\n",
    "#final output.\n",
    "\n",
    "a = int(input('Enter value of a between 1-10: '))\n",
    "b = int(input('Enter value of b between 1-10: '))\n",
    "Z= int(a+b)\n",
    "result = int(Z+30)\n",
    "print(result)"
   ]
  },
  {
   "cell_type": "code",
   "execution_count": 16,
   "id": "c52c5f66",
   "metadata": {},
   "outputs": [
    {
     "name": "stdout",
     "output_type": "stream",
     "text": [
      "Enter value of a: 3+3j\n",
      "3+3j <class 'complex'>\n"
     ]
    }
   ],
   "source": [
    "#Write a program to check the data type of the entered values.\n",
    "a = input('Enter value of a: ')\n",
    "print(a,type(eval((a))))"
   ]
  },
  {
   "cell_type": "code",
   "execution_count": 30,
   "id": "0b0448b9",
   "metadata": {},
   "outputs": [
    {
     "name": "stdout",
     "output_type": "stream",
     "text": [
      "helloWorld HelloWorld hello_world_\n"
     ]
    }
   ],
   "source": [
    "#Create Variables using formats such as Upper CamelCase, Lower CamelCase, SnakeCase and\n",
    "#UPPERCASE.\n",
    "inputgiven  = \"hello world\"\n",
    "lowercamelcase = \"helloWorld\"\n",
    "uppercamelCase = \"HelloWorld\"                                                                \n",
    "snake_case = \"hello_world_\"\n",
    "\n",
    "print(lowercamelcase, uppercamelCase, snake_case)"
   ]
  },
  {
   "cell_type": "code",
   "execution_count": 2,
   "id": "c6087fc2",
   "metadata": {},
   "outputs": [
    {
     "name": "stdout",
     "output_type": "stream",
     "text": [
      "2\n"
     ]
    }
   ],
   "source": [
    "#If datatype value assigned to variable and then differnt type value to same variable\n",
    "a= \"Krishna\"\n",
    "a=2\n",
    "print(a)\n",
    "\n",
    "#Because execution is prodecure programming type whihc means step by step (line by line) and updates the values last assigned "
   ]
  },
  {
   "cell_type": "code",
   "execution_count": null,
   "id": "a4b1dc48",
   "metadata": {},
   "outputs": [],
   "source": []
  }
 ],
 "metadata": {
  "kernelspec": {
   "display_name": "Python 3 (ipykernel)",
   "language": "python",
   "name": "python3"
  },
  "language_info": {
   "codemirror_mode": {
    "name": "ipython",
    "version": 3
   },
   "file_extension": ".py",
   "mimetype": "text/x-python",
   "name": "python",
   "nbconvert_exporter": "python",
   "pygments_lexer": "ipython3",
   "version": "3.8.2"
  }
 },
 "nbformat": 4,
 "nbformat_minor": 5
}
